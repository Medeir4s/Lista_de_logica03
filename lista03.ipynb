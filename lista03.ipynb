{
  "nbformat": 4,
  "nbformat_minor": 0,
  "metadata": {
    "colab": {
      "provenance": [],
      "authorship_tag": "ABX9TyOmkX/OrmpLDI3UuRpDA4WU",
      "include_colab_link": true
    },
    "kernelspec": {
      "name": "python3",
      "display_name": "Python 3"
    },
    "language_info": {
      "name": "python"
    }
  },
  "cells": [
    {
      "cell_type": "markdown",
      "metadata": {
        "id": "view-in-github",
        "colab_type": "text"
      },
      "source": [
        "<a href=\"https://colab.research.google.com/github/Medeir4s/Lista_de_logica03/blob/main/lista03.ipynb\" target=\"_parent\"><img src=\"https://colab.research.google.com/assets/colab-badge.svg\" alt=\"Open In Colab\"/></a>"
      ]
    },
    {
      "cell_type": "code",
      "source": [
        "#q1\n",
        "#a\n",
        "list(range(0,101))\n",
        "#b\n",
        "numero = 50\n",
        "while numero <= 100:\n",
        "  if numero % 2 == 0:\n",
        "    print(numero)\n",
        "  numero += 1\n",
        "#c\n",
        "def contagem():\n",
        "  for i in range(10, -1, -1):\n",
        "    print(i)\n",
        "  print(\"Fogo!\")\n",
        "contagem()\n",
        "#d\n",
        "def listar_numeros(limite, tipo):\n",
        "  if tipo == \"par\":\n",
        "    numeros = list(range(2, limite + 1, 2))\n",
        "  else:\n",
        "    numeros = list(range(1, limite + 1))\n",
        "    numeros = [i for i in numeros if i % 2 == 1]\n",
        "\n",
        "  for numero in numeros:\n",
        "    print(numero)\n",
        "\n",
        "\n",
        "limite = int(input(\"Digite o limite: \"))\n",
        "tipo = input(\"Pare ou ímpar? \")\n",
        "\n",
        "listar_numeros(limite, tipo)"
      ],
      "metadata": {
        "id": "fYcL0Z4INAbE"
      },
      "execution_count": null,
      "outputs": []
    },
    {
      "cell_type": "code",
      "source": [
        "#q2\n",
        "def multiplicar(x, y):\n",
        "  if x == 0 or y == 0:\n",
        "    return 0\n",
        "\n",
        "  if x > 0:\n",
        "    if y > 0:\n",
        "      return y + multiplicar(x - 1, y)\n",
        "    else:\n",
        "      return -y + multiplicar(x - 1, y)\n",
        "  else:\n",
        "    if y > 0:\n",
        "      return -y - multiplicar(x + 1, y)\n",
        "    else:\n",
        "      return y - multiplicar(x + 1, y)\n",
        "\n",
        "\n",
        "x = int(input(\"Digite o primeiro número: \"))\n",
        "y = int(input(\"Digite o segundo número: \"))\n",
        "\n",
        "resultado = multiplicar(x, y)\n",
        "print(f\"O resultado da multiplicação de {x} por {y} é {resultado}\")\n",
        "#q2b\n",
        "def divisao_inteira_e_resto(dividendo, divisor):\n",
        "\n",
        "  quociente = 0\n",
        "  resto = dividendo\n",
        "\n",
        "  while resto >= divisor:\n",
        "    quociente += 1\n",
        "\n",
        "    resto -= divisor\n",
        "\n",
        "  print(f\"Quociente: {quociente}\")\n",
        "  print(f\"Resto: {resto}\")\n",
        "\n",
        "dividendo = 20\n",
        "divisor = 4\n",
        "\n",
        "divisao_inteira_e_resto(dividendo, divisor)"
      ],
      "metadata": {
        "id": "g5lifQrlPw3f"
      },
      "execution_count": null,
      "outputs": []
    },
    {
      "cell_type": "code",
      "source": [
        "#q3\n",
        "numeros = []\n",
        "quantidade = 0\n",
        "soma = 0\n",
        "\n",
        "while True:\n",
        "  numero = int(input(\"Digite um número: \"))\n",
        "  if numero == 0:\n",
        "    break\n",
        "\n",
        "  numeros.append(numero)\n",
        "  quantidade += 1\n",
        "  soma += numero\n",
        "\n",
        "media = soma / quantidade\n",
        "\n",
        "print(f\"Quantidade de números digitados: {quantidade}\")\n",
        "print(f\"Soma dos números digitados: {soma}\")\n",
        "print(f\"Média dos números digitados: {media}\")"
      ],
      "metadata": {
        "colab": {
          "base_uri": "https://localhost:8080/"
        },
        "id": "hDkGD9DdSXMd",
        "outputId": "81eaa982-1961-4ebb-fcd6-649961b53ab9"
      },
      "execution_count": 18,
      "outputs": [
        {
          "output_type": "stream",
          "name": "stdout",
          "text": [
            "Digite um número: 7\n",
            "Digite um número: 10\n",
            "Digite um número: 0\n",
            "Quantidade de números digitados: 2\n",
            "Soma dos números digitados: 17\n",
            "Média aritmética dos números digitados: 8.5\n"
          ]
        }
      ]
    },
    {
      "cell_type": "code",
      "source": [
        "#q4.a e b\n",
        "def calcular_notas(valor):\n",
        "  notas = {\n",
        "    100: 0,\n",
        "    50: 0,\n",
        "    20: 0,\n",
        "    10: 0,\n",
        "    5: 0,\n",
        "    2: 0,\n",
        "    1: 0,\n",
        "  }\n",
        "  for nota in notas.keys():\n",
        "    while valor >= nota:\n",
        "      notas[nota] += 1\n",
        "      valor -= nota\n",
        "\n",
        "  return notas\n",
        "\n",
        "valor = int(input(\"Digite um valor inteiro: \"))\n",
        "\n",
        "notas = calcular_notas(valor)\n",
        "\n",
        "print(f\"Valor lido: R$ {valor}\")\n",
        "\n",
        "for nota, quantidade in notas.items():\n",
        "  print(f\"{quantidade} nota(s) de R$ {nota}\")\n",
        "#Não fiz questão A e B porque o código é o mesmo."
      ],
      "metadata": {
        "id": "COHBNLO4UPOW"
      },
      "execution_count": null,
      "outputs": []
    },
    {
      "cell_type": "code",
      "source": [
        "#q5\n",
        "opcoes = [\"Adição\", \"Subtração\", \"Divisão\", \"Multiplicação\", \"Sair\"]\n",
        "\n",
        "while True:\n",
        "  print(\"Escolha uma opção:\")\n",
        "  for i, opcao in enumerate(opcoes):\n",
        "    print(f\"{i + 1} - {opcao}\")\n",
        "\n",
        "  opcao_escolhida = int(input())\n",
        "\n",
        "  if opcao_escolhida == 5:\n",
        "    break\n",
        "\n",
        "  numero = int(input(\"Digite um número: \"))\n",
        "\n",
        "  if opcao_escolhida == 1:\n",
        "    for i in range(1, 11):\n",
        "      print(f\"{numero} + {i} = {numero + i}\")\n",
        "  elif opcao_escolhida == 2:\n",
        "    for i in range(1, 11):\n",
        "      print(f\"{numero} - {i} = {numero - i}\")\n",
        "  elif opcao_escolhida == 3:\n",
        "    for i in range(1, 11):\n",
        "      if numero % i == 0:\n",
        "        print(f\"{numero} / {i} = {numero / i}\")\n",
        "  elif opcao_escolhida == 4:\n",
        "    for i in range(1, 11):\n",
        "      print(f\"{numero} * {i} = {numero * i}\")"
      ],
      "metadata": {
        "id": "0TmlRkisVVt1"
      },
      "execution_count": null,
      "outputs": []
    },
    {
      "cell_type": "code",
      "source": [
        "#q6\n",
        "def contem_item(lista, item):\n",
        "  for i in lista:\n",
        "    if i == item:\n",
        "      return True\n",
        "\n",
        "  return False\n",
        "\n",
        "lista1 = [1, 2, 3, 4, 5]\n",
        "lista2 = [6, 7, 8, 9, 10]\n",
        "\n",
        "lista_resultante = []\n",
        "\n",
        "for item in lista1:\n",
        "  if not contem_item(lista_resultante, item):\n",
        "    lista_resultante.append(item)\n",
        "\n",
        "for item in lista2:\n",
        "  if not contem_item(lista_resultante, item):\n",
        "    lista_resultante.append(item)\n",
        "\n",
        "print(lista_resultante)"
      ],
      "metadata": {
        "colab": {
          "base_uri": "https://localhost:8080/"
        },
        "id": "JPRPlG_FVyrR",
        "outputId": "15d9bbf6-bd2b-4693-f566-058a86dd34be"
      },
      "execution_count": 27,
      "outputs": [
        {
          "output_type": "stream",
          "name": "stdout",
          "text": [
            "[1, 2, 3, 4, 5, 6, 7, 8, 9, 10]\n"
          ]
        }
      ]
    },
    {
      "cell_type": "code",
      "source": [
        "#q6.b\n",
        "def contem_item(lista, item):\n",
        "  return item in lista\n",
        "\n",
        "lista1 = [1, 2, 3, 4, 5]\n",
        "lista2 = [6, 7, 8, 9, 10]\n",
        "\n",
        "lista_resultante = []\n",
        "\n",
        "for item in lista1:\n",
        "  if not contem_item(lista_resultante, item):\n",
        "    lista_resultante.append(item)\n",
        "\n",
        "for item in lista2:\n",
        "  if not contem_item(lista_resultante, item):\n",
        "    lista_resultante.append(item)\n",
        "\n",
        "print(lista_resultante)"
      ],
      "metadata": {
        "colab": {
          "base_uri": "https://localhost:8080/"
        },
        "id": "pP-d88yBWT4a",
        "outputId": "5ac2578a-4055-4969-be00-ffd96f8c272c"
      },
      "execution_count": 29,
      "outputs": [
        {
          "output_type": "stream",
          "name": "stdout",
          "text": [
            "[1, 2, 3, 4, 5, 6, 7, 8, 9, 10]\n"
          ]
        }
      ]
    },
    {
      "cell_type": "code",
      "source": [
        "#q7\n",
        "def verificar_parenteses(expressao):\n",
        "  for caractere in expressao:\n",
        "    if caractere == \"(\":\n",
        "      parenteses.append(caractere)\n",
        "    elif caractere == \")\":\n",
        "      if len(parenteses) == 0:\n",
        "        return False\n",
        "      parenteses.pop()\n",
        "\n",
        "  return len(parenteses) == 0\n",
        "\n",
        "\n",
        "expressao = input(\"Digite uma expressão: \")\n",
        "\n",
        "if verificar_parenteses(expressao):\n",
        "  print(\"Os parênteses estão corretos.\")\n",
        "else:\n",
        "  print(\"Os parênteses estão incorretos.\")"
      ],
      "metadata": {
        "id": "00YvrxBfXR7m"
      },
      "execution_count": null,
      "outputs": []
    },
    {
      "cell_type": "code",
      "source": [
        "#q8\n",
        "T = [-10, -8, 0, 1, 2, 5, -2, -4]\n",
        "\n",
        "menor = T[0]\n",
        "maior = T[0]\n",
        "soma = 0\n",
        "\n",
        "for temperatura in T:\n",
        "  if temperatura < menor:\n",
        "    menor = temperatura\n",
        "  elif temperatura > maior:\n",
        "    maior = temperatura\n",
        "  soma += temperatura\n",
        "media = soma / len(T)\n",
        "\n",
        "print(\"Menor temperatura:\", menor)\n",
        "print(\"Maior temperatura:\", maior)\n",
        "print(\"Temperatura média:\", media)"
      ],
      "metadata": {
        "colab": {
          "base_uri": "https://localhost:8080/"
        },
        "id": "WkIbliBHXTI9",
        "outputId": "ccf33a57-b8c8-4814-afa4-312ea993283f"
      },
      "execution_count": 33,
      "outputs": [
        {
          "output_type": "stream",
          "name": "stdout",
          "text": [
            "Menor temperatura: -10\n",
            "Maior temperatura: 5\n",
            "Temperatura média: -2.0\n"
          ]
        }
      ]
    },
    {
      "cell_type": "code",
      "source": [
        "#q9\n",
        "def ordenar_crescente(lista):\n",
        "  for i in range(len(lista)):\n",
        "    for j in range(i + 1, len(lista)):\n",
        "      if lista[i] > lista[j]:\n",
        "        lista[i], lista[j] = lista[j], lista[i]\n",
        "\n",
        "  return lista\n",
        "\n",
        "lista = [7, 4, 3, 12, 8]\n",
        "\n",
        "lista_ordenada = ordenar_crescente(lista)\n",
        "\n",
        "print(lista_ordenada)"
      ],
      "metadata": {
        "colab": {
          "base_uri": "https://localhost:8080/"
        },
        "id": "Wy43ug22Xlqs",
        "outputId": "56b54a40-325a-45e5-957e-3ed83f4fcafa"
      },
      "execution_count": 34,
      "outputs": [
        {
          "output_type": "stream",
          "name": "stdout",
          "text": [
            "[3, 4, 7, 8, 12]\n"
          ]
        }
      ]
    },
    {
      "cell_type": "code",
      "source": [
        "#q1.a\n",
        "def area_quadrado(lado):\n",
        "  return lado ** 2\n",
        "\n",
        "print(area_quadrado(4))\n",
        "print(area_quadrado(9))"
      ],
      "metadata": {
        "colab": {
          "base_uri": "https://localhost:8080/"
        },
        "id": "nmC3vCGyX7tF",
        "outputId": "155a4f09-752d-4aa3-d155-c837431ccb17"
      },
      "execution_count": 35,
      "outputs": [
        {
          "output_type": "stream",
          "name": "stdout",
          "text": [
            "16\n",
            "81\n"
          ]
        }
      ]
    },
    {
      "cell_type": "code",
      "source": [
        "#q10.b\n",
        "def area_triangulo(base, altura):\n",
        "  return (base * altura) / 2\n",
        "\n",
        "print(area_triangulo(6, 9))\n",
        "print(area_triangulo(5, 8))"
      ],
      "metadata": {
        "colab": {
          "base_uri": "https://localhost:8080/"
        },
        "id": "lL4HCdfgYISU",
        "outputId": "1f6e003d-b0e2-4b84-ecf2-00c64fc6fc83"
      },
      "execution_count": 36,
      "outputs": [
        {
          "output_type": "stream",
          "name": "stdout",
          "text": [
            "27.0\n",
            "20.0\n"
          ]
        }
      ]
    },
    {
      "cell_type": "code",
      "source": [
        "#q10.c\n",
        "def area_quadrado(lado, exibir=False):\n",
        "\n",
        "  area = lado * lado\n",
        "\n",
        "  if exibir:\n",
        "    print(area)\n",
        "\n",
        "  return area\n",
        "\n",
        "def area_triangulo(base, altura, exibir=False):\n",
        "\n",
        "  area = (base * altura) / 2\n",
        "\n",
        "  if exibir:\n",
        "    print(area)\n",
        "\n",
        "  return area\n",
        "\n",
        "\n",
        "print(area_quadrado(6, True))\n",
        "print(area_triangulo(6, 9, True))"
      ],
      "metadata": {
        "colab": {
          "base_uri": "https://localhost:8080/"
        },
        "id": "MnBuTwRyYYKp",
        "outputId": "c60cbec2-d260-44e0-e7d5-fb63d9b7c8ab"
      },
      "execution_count": 39,
      "outputs": [
        {
          "output_type": "stream",
          "name": "stdout",
          "text": [
            "36\n",
            "36\n",
            "27.0\n",
            "27.0\n"
          ]
        }
      ]
    },
    {
      "cell_type": "code",
      "source": [
        "#q11"
      ],
      "metadata": {
        "id": "e5U-1UDCY8BH"
      },
      "execution_count": null,
      "outputs": []
    },
    {
      "cell_type": "code",
      "source": [
        "#q12\n",
        "def contagem_regressiva(n):\n",
        "  if n > 0:\n",
        "    print(n)\n",
        "    contagem_regressiva(n - 1)\n",
        "\n",
        "\n",
        "n = int(input(\"Digite um número inteiro: \"))\n",
        "contagem_regressiva(n)"
      ],
      "metadata": {
        "id": "cxxaYMeKY9rN"
      },
      "execution_count": null,
      "outputs": []
    },
    {
      "cell_type": "code",
      "source": [
        "#q13\n",
        "lista_de_tarefas = []\n",
        "\n",
        "\n",
        "def adicionar_tarefa(tarefa):\n",
        "\n",
        "  global lista_de_tarefas\n",
        "  lista_de_tarefas.append(tarefa)\n",
        "\n",
        "\n",
        "def exibir_tarefas():\n",
        "\n",
        "  for tarefa in lista_de_tarefas:\n",
        "    print(tarefa)\n",
        "\n",
        "\n",
        "adicionar_tarefa(\"Comprar leite\")\n",
        "adicionar_tarefa(\"Limpar a casa\")\n",
        "adicionar_tarefa(\"Fazer o jantar\")\n",
        "\n",
        "exibir_tarefas()"
      ],
      "metadata": {
        "colab": {
          "base_uri": "https://localhost:8080/"
        },
        "id": "Oh7j-Mf5ZWw9",
        "outputId": "4e36d18d-5898-4000-86fd-b4d88cf7cd67"
      },
      "execution_count": 42,
      "outputs": [
        {
          "output_type": "stream",
          "name": "stdout",
          "text": [
            "Comprar leite\n",
            "Limpar a casa\n",
            "Fazer o jantar\n"
          ]
        }
      ]
    },
    {
      "cell_type": "code",
      "source": [
        "#14\n",
        "def aumentar_valor(valor):\n",
        "  valor_aumentado = valor + 1\n",
        "\n",
        "  return valor_aumentado"
      ],
      "metadata": {
        "id": "VW6--Li6ZxXQ"
      },
      "execution_count": 44,
      "outputs": []
    },
    {
      "cell_type": "code",
      "source": [
        "#q15\n",
        "def grito_de_natal(felicidade):\n",
        "  if felicidade <= 1:\n",
        "    raise ValueError(\"O nível de felicidade deve ser maior que 1.\")\n",
        "\n",
        "  grito = (\"Feliz natal!!\")\n",
        "\n",
        "  for _ in range(felicidade - 1):\n",
        "    grito += \"!!!\"\n",
        "\n",
        "  return grito"
      ],
      "metadata": {
        "id": "xOY17YbVaaPX"
      },
      "execution_count": 47,
      "outputs": []
    },
    {
      "cell_type": "code",
      "source": [
        "def divisao_inteira_e_resto(dividendo, divisor):\n",
        "\n",
        "  quociente = 0\n",
        "  resto = dividendo\n",
        "\n",
        "  while resto >= divisor:\n",
        "    quociente += 1\n",
        "\n",
        "    resto -= divisor\n",
        "\n",
        "  print(f\"Quociente: {quociente}\")\n",
        "  print(f\"Resto: {resto}\")\n",
        "\n",
        "dividendo = 20\n",
        "divisor = 4\n",
        "\n",
        "divisao_inteira_e_resto(dividendo, divisor)"
      ],
      "metadata": {
        "colab": {
          "base_uri": "https://localhost:8080/"
        },
        "id": "9H6pGBpJbF9H",
        "outputId": "76692db6-cd63-4f43-84cb-d41ff68a6e5a"
      },
      "execution_count": 48,
      "outputs": [
        {
          "output_type": "stream",
          "name": "stdout",
          "text": [
            "Quociente: 5\n",
            "Resto: 0\n"
          ]
        }
      ]
    }
  ]
}